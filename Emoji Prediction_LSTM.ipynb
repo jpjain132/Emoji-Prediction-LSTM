{
 "cells": [
  {
   "cell_type": "markdown",
   "id": "ready-typing",
   "metadata": {},
   "source": [
    "![image](https://github.com/Coding-Lane/Emojify-Text/blob/main/emoji.png?raw=true)"
   ]
  },
  {
   "cell_type": "code",
   "execution_count": 45,
   "id": "confidential-intermediate",
   "metadata": {},
   "outputs": [],
   "source": [
    "import numpy as np\n",
    "import pandas as pd\n",
    "import emoji\n",
    "\n",
    "from keras.models import Sequential\n",
    "from keras.layers import Dense, LSTM, SimpleRNN, Embedding\n",
    "\n",
    "from keras.preprocessing.text import Tokenizer\n",
    "from keras.preprocessing.sequence import pad_sequences\n",
    "from tensorflow.keras.utils import to_categorical"
   ]
  },
  {
   "cell_type": "code",
   "execution_count": 49,
   "id": "future-seeking",
   "metadata": {},
   "outputs": [
    {
     "data": {
      "text/html": [
       "<div>\n",
       "<style scoped>\n",
       "    .dataframe tbody tr th:only-of-type {\n",
       "        vertical-align: middle;\n",
       "    }\n",
       "\n",
       "    .dataframe tbody tr th {\n",
       "        vertical-align: top;\n",
       "    }\n",
       "\n",
       "    .dataframe thead th {\n",
       "        text-align: right;\n",
       "    }\n",
       "</style>\n",
       "<table border=\"1\" class=\"dataframe\">\n",
       "  <thead>\n",
       "    <tr style=\"text-align: right;\">\n",
       "      <th></th>\n",
       "      <th>0</th>\n",
       "      <th>1</th>\n",
       "    </tr>\n",
       "  </thead>\n",
       "  <tbody>\n",
       "    <tr>\n",
       "      <th>0</th>\n",
       "      <td>French macaroon is so tasty</td>\n",
       "      <td>4</td>\n",
       "    </tr>\n",
       "    <tr>\n",
       "      <th>1</th>\n",
       "      <td>work is horrible</td>\n",
       "      <td>3</td>\n",
       "    </tr>\n",
       "    <tr>\n",
       "      <th>2</th>\n",
       "      <td>I am upset</td>\n",
       "      <td>3</td>\n",
       "    </tr>\n",
       "    <tr>\n",
       "      <th>3</th>\n",
       "      <td>throw the ball</td>\n",
       "      <td>1</td>\n",
       "    </tr>\n",
       "    <tr>\n",
       "      <th>4</th>\n",
       "      <td>Good joke</td>\n",
       "      <td>2</td>\n",
       "    </tr>\n",
       "  </tbody>\n",
       "</table>\n",
       "</div>"
      ],
      "text/plain": [
       "                             0  1\n",
       "0  French macaroon is so tasty  4\n",
       "1             work is horrible  3\n",
       "2                   I am upset  3\n",
       "3               throw the ball  1\n",
       "4                    Good joke  2"
      ]
     },
     "execution_count": 49,
     "metadata": {},
     "output_type": "execute_result"
    }
   ],
   "source": [
    "data = pd.read_csv('emoji_data.csv', header = None)\n",
    "data.head()"
   ]
  },
  {
   "cell_type": "code",
   "execution_count": 50,
   "id": "hollywood-simulation",
   "metadata": {},
   "outputs": [],
   "source": [
    "emoji_dict = {\n",
    "    0: \":red_heart:\",\n",
    "    1: \":baseball:\",\n",
    "    2: \":grinning_face_with_big_eyes:\",\n",
    "    3: \":disappointed_face:\",\n",
    "    4: \":fork_and_knife_with_plate:\"\n",
    "}\n",
    "\n",
    "def label_to_emoji(label):\n",
    "    return emoji.emojize(emoji_dict[label])"
   ]
  },
  {
   "cell_type": "code",
   "execution_count": 51,
   "id": "indoor-recipient",
   "metadata": {},
   "outputs": [],
   "source": [
    "X = data[0].values\n",
    "Y = data[1].values"
   ]
  },
  {
   "cell_type": "markdown",
   "id": "concerned-oxide",
   "metadata": {},
   "source": [
    "# Embeddings"
   ]
  },
  {
   "cell_type": "code",
   "execution_count": 16,
   "id": "buried-opposition",
   "metadata": {},
   "outputs": [],
   "source": [
    "file = open('glove.6B.100d.txt', 'r', encoding = 'utf8')\n",
    "content = file.readlines()\n",
    "file.close()\n",
    "\n",
    "# content"
   ]
  },
  {
   "cell_type": "code",
   "execution_count": 66,
   "id": "based-response",
   "metadata": {},
   "outputs": [],
   "source": [
    "embeddings = {}\n",
    "\n",
    "for line in content:\n",
    "    line = line.split()\n",
    "    embeddings[line[0]] = np.array(line[1:], dtype = float)"
   ]
  },
  {
   "cell_type": "code",
   "execution_count": 40,
   "id": "coordinate-color",
   "metadata": {},
   "outputs": [
    {
     "name": "stdout",
     "output_type": "stream",
     "text": [
      "10\n"
     ]
    }
   ],
   "source": [
    "def get_maxlen(data):\n",
    "    maxlen = 0\n",
    "    for sent in data:\n",
    "        maxlen = max(maxlen, len(sent))\n",
    "    return maxlen\n",
    "\n",
    "maxlen = get_maxlen(Xtokens)\n",
    "print(maxlen)"
   ]
  },
  {
   "cell_type": "code",
   "execution_count": 33,
   "id": "manual-maryland",
   "metadata": {},
   "outputs": [],
   "source": [
    "tokenizer = Tokenizer()\n",
    "tokenizer.fit_on_texts(X)\n",
    "word2index = tokenizer.word_index"
   ]
  },
  {
   "cell_type": "code",
   "execution_count": 35,
   "id": "recovered-fortune",
   "metadata": {},
   "outputs": [],
   "source": [
    "Xtokens = tokenizer.texts_to_sequences(X)\n",
    "Xtrain = pad_sequences(Xtokens, maxlen = maxlen,  padding = 'post', truncating = 'post')"
   ]
  },
  {
   "cell_type": "code",
   "execution_count": 53,
   "id": "polyphonic-cannon",
   "metadata": {},
   "outputs": [],
   "source": [
    "Ytrain = to_categorical(Y)"
   ]
  },
  {
   "cell_type": "markdown",
   "id": "greatest-violin",
   "metadata": {},
   "source": [
    "# Model"
   ]
  },
  {
   "cell_type": "code",
   "execution_count": 67,
   "id": "intended-rapid",
   "metadata": {},
   "outputs": [],
   "source": [
    "embed_size = 100\n",
    "embedding_matrix = np.zeros((len(word2index)+1, embed_size))\n",
    "\n",
    "for word, i in word2index.items():\n",
    "    embed_vector = embeddings[word]\n",
    "    embedding_matrix[i] = embed_vector"
   ]
  },
  {
   "cell_type": "code",
   "execution_count": 68,
   "id": "weighted-relationship",
   "metadata": {},
   "outputs": [
    {
     "data": {
      "text/plain": [
       "array([[ 0.      ,  0.      ,  0.      , ...,  0.      ,  0.      ,\n",
       "         0.      ],\n",
       "       [-0.046539,  0.61966 ,  0.56647 , ..., -0.37616 , -0.032502,\n",
       "         0.8062  ],\n",
       "       [-0.49886 ,  0.76602 ,  0.89751 , ..., -0.41179 ,  0.40539 ,\n",
       "         0.78504 ],\n",
       "       ...,\n",
       "       [-0.46263 ,  0.069864,  0.69095 , ..., -0.29174 ,  0.32041 ,\n",
       "         0.21202 ],\n",
       "       [ 0.073242,  0.11134 ,  0.62281 , ...,  0.53417 , -0.1646  ,\n",
       "        -0.27516 ],\n",
       "       [ 0.29019 ,  0.80497 ,  0.31187 , ..., -0.33603 ,  0.45998 ,\n",
       "        -0.11278 ]])"
      ]
     },
     "execution_count": 68,
     "metadata": {},
     "output_type": "execute_result"
    }
   ],
   "source": [
    "embedding_matrix"
   ]
  },
  {
   "cell_type": "code",
   "execution_count": 95,
   "id": "homeless-single",
   "metadata": {},
   "outputs": [],
   "source": [
    "model = Sequential([\n",
    "    Embedding(input_dim = len(word2index) + 1,\n",
    "              output_dim = embed_size,\n",
    "              input_length = maxlen,\n",
    "              weights = [embedding_matrix],\n",
    "              trainable = False\n",
    "             ),\n",
    "    \n",
    "    LSTM(units = 16, return_sequences = True),\n",
    "    LSTM(units = 4),\n",
    "    Dense(5, activation = 'softmax')\n",
    "])\n",
    "\n",
    "model.compile(optimizer = 'adam', loss = 'categorical_crossentropy', metrics = ['accuracy'])"
   ]
  },
  {
   "cell_type": "code",
   "execution_count": 80,
   "id": "technical-possible",
   "metadata": {},
   "outputs": [
    {
     "name": "stdout",
     "output_type": "stream",
     "text": [
      "Epoch 1/100\n",
      "6/6 [==============================] - 71s 77ms/step - loss: 1.5886 - accuracy: 0.2896\n",
      "Epoch 2/100\n",
      "6/6 [==============================] - 0s 30ms/step - loss: 1.5659 - accuracy: 0.3497\n",
      "Epoch 3/100\n",
      "6/6 [==============================] - 0s 27ms/step - loss: 1.5482 - accuracy: 0.3497\n",
      "Epoch 4/100\n",
      "6/6 [==============================] - 0s 32ms/step - loss: 1.5313 - accuracy: 0.3388\n",
      "Epoch 5/100\n",
      "6/6 [==============================] - 0s 32ms/step - loss: 1.5154 - accuracy: 0.3443\n",
      "Epoch 6/100\n",
      "6/6 [==============================] - 0s 28ms/step - loss: 1.4967 - accuracy: 0.3716\n",
      "Epoch 7/100\n",
      "6/6 [==============================] - 0s 25ms/step - loss: 1.4769 - accuracy: 0.3825\n",
      "Epoch 8/100\n",
      "6/6 [==============================] - 0s 33ms/step - loss: 1.4553 - accuracy: 0.3880\n",
      "Epoch 9/100\n",
      "6/6 [==============================] - ETA: 0s - loss: 1.4359 - accuracy: 0.42 - 0s 30ms/step - loss: 1.4336 - accuracy: 0.4153\n",
      "Epoch 10/100\n",
      "6/6 [==============================] - 0s 23ms/step - loss: 1.4107 - accuracy: 0.4863\n",
      "Epoch 11/100\n",
      "6/6 [==============================] - 0s 27ms/step - loss: 1.3881 - accuracy: 0.5082\n",
      "Epoch 12/100\n",
      "6/6 [==============================] - 0s 22ms/step - loss: 1.3664 - accuracy: 0.5301\n",
      "Epoch 13/100\n",
      "6/6 [==============================] - 0s 25ms/step - loss: 1.3400 - accuracy: 0.5464\n",
      "Epoch 14/100\n",
      "6/6 [==============================] - 0s 31ms/step - loss: 1.3141 - accuracy: 0.5410\n",
      "Epoch 15/100\n",
      "6/6 [==============================] - 0s 31ms/step - loss: 1.2845 - accuracy: 0.5792\n",
      "Epoch 16/100\n",
      "6/6 [==============================] - 0s 30ms/step - loss: 1.2590 - accuracy: 0.6120\n",
      "Epoch 17/100\n",
      "6/6 [==============================] - 0s 30ms/step - loss: 1.2252 - accuracy: 0.6066\n",
      "Epoch 18/100\n",
      "6/6 [==============================] - 0s 30ms/step - loss: 1.1861 - accuracy: 0.6284\n",
      "Epoch 19/100\n",
      "6/6 [==============================] - 0s 23ms/step - loss: 1.1529 - accuracy: 0.6885\n",
      "Epoch 20/100\n",
      "6/6 [==============================] - 0s 29ms/step - loss: 1.1251 - accuracy: 0.6612\n",
      "Epoch 21/100\n",
      "6/6 [==============================] - 0s 29ms/step - loss: 1.0889 - accuracy: 0.6995\n",
      "Epoch 22/100\n",
      "6/6 [==============================] - 0s 32ms/step - loss: 1.0795 - accuracy: 0.6831\n",
      "Epoch 23/100\n",
      "6/6 [==============================] - 0s 25ms/step - loss: 1.0177 - accuracy: 0.7268\n",
      "Epoch 24/100\n",
      "6/6 [==============================] - 0s 27ms/step - loss: 1.0126 - accuracy: 0.7486\n",
      "Epoch 25/100\n",
      "6/6 [==============================] - 0s 28ms/step - loss: 0.9696 - accuracy: 0.7432\n",
      "Epoch 26/100\n",
      "6/6 [==============================] - 0s 29ms/step - loss: 0.9420 - accuracy: 0.7923\n",
      "Epoch 27/100\n",
      "6/6 [==============================] - 0s 26ms/step - loss: 0.9137 - accuracy: 0.7705\n",
      "Epoch 28/100\n",
      "6/6 [==============================] - 0s 34ms/step - loss: 0.8788 - accuracy: 0.8306\n",
      "Epoch 29/100\n",
      "6/6 [==============================] - 0s 31ms/step - loss: 0.8513 - accuracy: 0.8525\n",
      "Epoch 30/100\n",
      "6/6 [==============================] - 0s 24ms/step - loss: 0.8237 - accuracy: 0.8689\n",
      "Epoch 31/100\n",
      "6/6 [==============================] - 0s 30ms/step - loss: 0.7950 - accuracy: 0.8962\n",
      "Epoch 32/100\n",
      "6/6 [==============================] - 0s 27ms/step - loss: 0.7619 - accuracy: 0.9235\n",
      "Epoch 33/100\n",
      "6/6 [==============================] - 0s 32ms/step - loss: 0.7431 - accuracy: 0.9180\n",
      "Epoch 34/100\n",
      "6/6 [==============================] - 0s 28ms/step - loss: 0.7112 - accuracy: 0.9454\n",
      "Epoch 35/100\n",
      "6/6 [==============================] - 0s 26ms/step - loss: 0.6890 - accuracy: 0.9399\n",
      "Epoch 36/100\n",
      "6/6 [==============================] - 0s 31ms/step - loss: 0.6666 - accuracy: 0.9617\n",
      "Epoch 37/100\n",
      "6/6 [==============================] - 0s 30ms/step - loss: 0.6452 - accuracy: 0.9563\n",
      "Epoch 38/100\n",
      "6/6 [==============================] - 0s 31ms/step - loss: 0.6270 - accuracy: 0.9508\n",
      "Epoch 39/100\n",
      "6/6 [==============================] - 0s 34ms/step - loss: 0.6095 - accuracy: 0.9563\n",
      "Epoch 40/100\n",
      "6/6 [==============================] - 0s 27ms/step - loss: 0.5908 - accuracy: 0.9617\n",
      "Epoch 41/100\n",
      "6/6 [==============================] - 0s 26ms/step - loss: 0.5729 - accuracy: 0.9672\n",
      "Epoch 42/100\n",
      "6/6 [==============================] - 0s 23ms/step - loss: 0.5553 - accuracy: 0.9672\n",
      "Epoch 43/100\n",
      "6/6 [==============================] - 0s 29ms/step - loss: 0.5405 - accuracy: 0.9727\n",
      "Epoch 44/100\n",
      "6/6 [==============================] - 0s 26ms/step - loss: 0.5265 - accuracy: 0.9672\n",
      "Epoch 45/100\n",
      "6/6 [==============================] - 0s 30ms/step - loss: 0.5130 - accuracy: 0.9727\n",
      "Epoch 46/100\n",
      "6/6 [==============================] - 0s 32ms/step - loss: 0.5008 - accuracy: 0.9727\n",
      "Epoch 47/100\n",
      "6/6 [==============================] - 0s 32ms/step - loss: 0.4892 - accuracy: 0.9727\n",
      "Epoch 48/100\n",
      "6/6 [==============================] - 0s 33ms/step - loss: 0.4780 - accuracy: 0.9727\n",
      "Epoch 49/100\n",
      "6/6 [==============================] - 0s 23ms/step - loss: 0.4674 - accuracy: 0.9727\n",
      "Epoch 50/100\n",
      "6/6 [==============================] - 0s 24ms/step - loss: 0.4571 - accuracy: 0.9727\n",
      "Epoch 51/100\n",
      "6/6 [==============================] - 0s 27ms/step - loss: 0.4468 - accuracy: 0.9727\n",
      "Epoch 52/100\n",
      "6/6 [==============================] - 0s 27ms/step - loss: 0.4374 - accuracy: 0.9727\n",
      "Epoch 53/100\n",
      "6/6 [==============================] - 0s 34ms/step - loss: 0.4246 - accuracy: 0.9727\n",
      "Epoch 54/100\n",
      "6/6 [==============================] - 0s 25ms/step - loss: 0.4115 - accuracy: 0.9781\n",
      "Epoch 55/100\n",
      "6/6 [==============================] - 0s 23ms/step - loss: 0.4161 - accuracy: 0.9672\n",
      "Epoch 56/100\n",
      "6/6 [==============================] - 0s 36ms/step - loss: 0.3961 - accuracy: 0.9781\n",
      "Epoch 57/100\n",
      "6/6 [==============================] - 0s 44ms/step - loss: 0.3899 - accuracy: 0.9727\n",
      "Epoch 58/100\n",
      "6/6 [==============================] - 0s 36ms/step - loss: 0.3838 - accuracy: 0.9727\n",
      "Epoch 59/100\n",
      "6/6 [==============================] - 0s 24ms/step - loss: 0.3694 - accuracy: 0.9781\n",
      "Epoch 60/100\n",
      "6/6 [==============================] - 0s 30ms/step - loss: 0.3635 - accuracy: 0.9781\n",
      "Epoch 61/100\n",
      "6/6 [==============================] - 0s 31ms/step - loss: 0.3556 - accuracy: 0.9781\n",
      "Epoch 62/100\n",
      "6/6 [==============================] - 0s 23ms/step - loss: 0.3489 - accuracy: 0.9781\n",
      "Epoch 63/100\n",
      "6/6 [==============================] - 0s 26ms/step - loss: 0.3415 - accuracy: 0.9781\n",
      "Epoch 64/100\n",
      "6/6 [==============================] - 0s 24ms/step - loss: 0.3350 - accuracy: 0.9781\n",
      "Epoch 65/100\n",
      "6/6 [==============================] - 0s 30ms/step - loss: 0.3284 - accuracy: 0.9781\n",
      "Epoch 66/100\n",
      "6/6 [==============================] - 0s 19ms/step - loss: 0.3222 - accuracy: 0.9781\n",
      "Epoch 67/100\n",
      "6/6 [==============================] - 0s 21ms/step - loss: 0.3161 - accuracy: 0.9781\n",
      "Epoch 68/100\n",
      "6/6 [==============================] - 0s 33ms/step - loss: 0.3058 - accuracy: 0.9836\n",
      "Epoch 69/100\n",
      "6/6 [==============================] - 0s 26ms/step - loss: 0.2991 - accuracy: 0.9836\n",
      "Epoch 70/100\n",
      "6/6 [==============================] - 0s 34ms/step - loss: 0.2938 - accuracy: 0.9836\n",
      "Epoch 71/100\n",
      "6/6 [==============================] - 0s 20ms/step - loss: 0.2876 - accuracy: 0.9836\n",
      "Epoch 72/100\n",
      "6/6 [==============================] - 0s 24ms/step - loss: 0.2824 - accuracy: 0.9836\n",
      "Epoch 73/100\n",
      "6/6 [==============================] - 0s 26ms/step - loss: 0.2769 - accuracy: 0.9836\n",
      "Epoch 74/100\n",
      "6/6 [==============================] - 0s 28ms/step - loss: 0.2719 - accuracy: 0.9836\n",
      "Epoch 75/100\n",
      "6/6 [==============================] - 0s 24ms/step - loss: 0.2674 - accuracy: 0.9836\n",
      "Epoch 76/100\n",
      "6/6 [==============================] - 0s 30ms/step - loss: 0.2625 - accuracy: 0.9836\n",
      "Epoch 77/100\n",
      "6/6 [==============================] - 0s 39ms/step - loss: 0.2576 - accuracy: 0.9836\n",
      "Epoch 78/100\n",
      "6/6 [==============================] - 0s 24ms/step - loss: 0.2528 - accuracy: 0.9836\n",
      "Epoch 79/100\n",
      "6/6 [==============================] - 0s 37ms/step - loss: 0.2464 - accuracy: 0.9836\n",
      "Epoch 80/100\n",
      "6/6 [==============================] - 0s 23ms/step - loss: 0.2475 - accuracy: 0.9836\n",
      "Epoch 81/100\n",
      "6/6 [==============================] - 0s 31ms/step - loss: 0.2352 - accuracy: 0.9891\n",
      "Epoch 82/100\n",
      "6/6 [==============================] - 0s 26ms/step - loss: 0.2286 - accuracy: 0.9945\n",
      "Epoch 83/100\n"
     ]
    },
    {
     "name": "stdout",
     "output_type": "stream",
     "text": [
      "6/6 [==============================] - 0s 23ms/step - loss: 0.2231 - accuracy: 0.9945\n",
      "Epoch 84/100\n",
      "6/6 [==============================] - 0s 31ms/step - loss: 0.2175 - accuracy: 0.9945\n",
      "Epoch 85/100\n",
      "6/6 [==============================] - 0s 26ms/step - loss: 0.2120 - accuracy: 1.0000\n",
      "Epoch 86/100\n",
      "6/6 [==============================] - 0s 25ms/step - loss: 0.2070 - accuracy: 1.0000\n",
      "Epoch 87/100\n",
      "6/6 [==============================] - 0s 26ms/step - loss: 0.2030 - accuracy: 1.0000\n",
      "Epoch 88/100\n",
      "6/6 [==============================] - 0s 25ms/step - loss: 0.1991 - accuracy: 1.0000\n",
      "Epoch 89/100\n",
      "6/6 [==============================] - 0s 29ms/step - loss: 0.1953 - accuracy: 1.0000\n",
      "Epoch 90/100\n",
      "6/6 [==============================] - 0s 34ms/step - loss: 0.1917 - accuracy: 1.0000\n",
      "Epoch 91/100\n",
      "6/6 [==============================] - 0s 33ms/step - loss: 0.1887 - accuracy: 1.0000\n",
      "Epoch 92/100\n",
      "6/6 [==============================] - 0s 28ms/step - loss: 0.1855 - accuracy: 1.0000\n",
      "Epoch 93/100\n",
      "6/6 [==============================] - 0s 28ms/step - loss: 0.1825 - accuracy: 1.0000\n",
      "Epoch 94/100\n",
      "6/6 [==============================] - 0s 20ms/step - loss: 0.1798 - accuracy: 1.0000\n",
      "Epoch 95/100\n",
      "6/6 [==============================] - 0s 24ms/step - loss: 0.1772 - accuracy: 1.0000\n",
      "Epoch 96/100\n",
      "6/6 [==============================] - 0s 25ms/step - loss: 0.1746 - accuracy: 1.0000\n",
      "Epoch 97/100\n",
      "6/6 [==============================] - 0s 23ms/step - loss: 0.1721 - accuracy: 1.0000\n",
      "Epoch 98/100\n",
      "6/6 [==============================] - 0s 22ms/step - loss: 0.1698 - accuracy: 1.0000\n",
      "Epoch 99/100\n",
      "6/6 [==============================] - 0s 27ms/step - loss: 0.1674 - accuracy: 1.0000\n",
      "Epoch 100/100\n",
      "6/6 [==============================] - 0s 29ms/step - loss: 0.1652 - accuracy: 1.0000\n"
     ]
    },
    {
     "data": {
      "text/plain": [
       "<keras.callbacks.History at 0x1fb89869e50>"
      ]
     },
     "execution_count": 80,
     "metadata": {},
     "output_type": "execute_result"
    }
   ],
   "source": [
    "model.fit(Xtrain, Ytrain, epochs = 100)"
   ]
  },
  {
   "cell_type": "code",
   "execution_count": 84,
   "id": "convertible-spider",
   "metadata": {},
   "outputs": [
    {
     "name": "stdout",
     "output_type": "stream",
     "text": [
      "I feel good 😃\n",
      "I feel very bad 😞\n",
      "lets eat dinner 🍽️\n"
     ]
    }
   ],
   "source": [
    "test = [\"I feel good\", \"I feel very bad\", \"lets eat dinner\"]\n",
    "\n",
    "test_seq = tokenizer.texts_to_sequences(test)\n",
    "Xtest = pad_sequences(test_seq, maxlen = maxlen, padding = 'post', truncating = 'post')\n",
    "\n",
    "y_pred = model.predict(Xtest)\n",
    "y_pred = np.argmax(y_pred, axis = 1)\n",
    "\n",
    "for i in range(len(test)):\n",
    "    print(test[i], label_to_emoji(y_pred[i]))"
   ]
  },
  {
   "cell_type": "code",
   "execution_count": null,
   "id": "incorporated-detector",
   "metadata": {},
   "outputs": [],
   "source": []
  }
 ],
 "metadata": {
  "kernelspec": {
   "display_name": "Python 3",
   "language": "python",
   "name": "python3"
  },
  "language_info": {
   "codemirror_mode": {
    "name": "ipython",
    "version": 3
   },
   "file_extension": ".py",
   "mimetype": "text/x-python",
   "name": "python",
   "nbconvert_exporter": "python",
   "pygments_lexer": "ipython3",
   "version": "3.9.1"
  }
 },
 "nbformat": 4,
 "nbformat_minor": 5
}
